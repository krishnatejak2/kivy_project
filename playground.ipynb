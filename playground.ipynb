{
 "cells": [
  {
   "cell_type": "code",
   "execution_count": 1,
   "metadata": {},
   "outputs": [
    {
     "output_type": "stream",
     "name": "stdout",
     "text": "Variance  Skewness  Curtosis  Entropy  Class\n0   3.62160    8.6661   -2.8073 -0.44699      0\n1   4.54590    8.1674   -2.4586 -1.46210      0\n2   3.86600   -2.6383    1.9242  0.10645      0\n3   3.45660    9.5228   -4.0112 -3.59440      0\n4   0.32924   -4.4552    4.5718 -0.98880      0\n"
    }
   ],
   "source": [
    "import pandas as pd\n",
    "import numpy as np\n",
    "from sklearn.model_selection import train_test_split\n",
    "from sklearn.preprocessing import StandardScaler\n",
    "from sklearn.ensemble import RandomForestClassifier\n",
    "from sklearn import metrics\n",
    "from sklearn.metrics import classification_report, confusion_matrix, accuracy_score\n",
    "import pickle\n",
    "\n",
    "dataset = pd.read_csv('./data/bill_authentication.csv')\n",
    "print(dataset.head())"
   ]
  },
  {
   "cell_type": "code",
   "execution_count": 2,
   "metadata": {},
   "outputs": [],
   "source": [
    "X = dataset.iloc[:, 0:4].values\n",
    "y = dataset.iloc[:, 4].values\n",
    "\n",
    "X_train, X_test, y_train, y_test = train_test_split(X, y, test_size=0.2, random_state=0)"
   ]
  },
  {
   "cell_type": "code",
   "execution_count": 8,
   "metadata": {},
   "outputs": [
    {
     "output_type": "execute_result",
     "data": {
      "text/plain": "        0          1         2        3\n0 -1.7713 -10.766500  10.21840 -1.00430\n1  5.1321  -0.031048   0.32616  1.11510\n2 -2.0149   3.687400  -1.93850 -3.89180\n3  1.4884   3.627400   3.30800  0.48921\n4  5.2868   3.257000  -1.37210  1.16680",
      "text/html": "<div>\n<style scoped>\n    .dataframe tbody tr th:only-of-type {\n        vertical-align: middle;\n    }\n\n    .dataframe tbody tr th {\n        vertical-align: top;\n    }\n\n    .dataframe thead th {\n        text-align: right;\n    }\n</style>\n<table border=\"1\" class=\"dataframe\">\n  <thead>\n    <tr style=\"text-align: right;\">\n      <th></th>\n      <th>0</th>\n      <th>1</th>\n      <th>2</th>\n      <th>3</th>\n    </tr>\n  </thead>\n  <tbody>\n    <tr>\n      <th>0</th>\n      <td>-1.7713</td>\n      <td>-10.766500</td>\n      <td>10.21840</td>\n      <td>-1.00430</td>\n    </tr>\n    <tr>\n      <th>1</th>\n      <td>5.1321</td>\n      <td>-0.031048</td>\n      <td>0.32616</td>\n      <td>1.11510</td>\n    </tr>\n    <tr>\n      <th>2</th>\n      <td>-2.0149</td>\n      <td>3.687400</td>\n      <td>-1.93850</td>\n      <td>-3.89180</td>\n    </tr>\n    <tr>\n      <th>3</th>\n      <td>1.4884</td>\n      <td>3.627400</td>\n      <td>3.30800</td>\n      <td>0.48921</td>\n    </tr>\n    <tr>\n      <th>4</th>\n      <td>5.2868</td>\n      <td>3.257000</td>\n      <td>-1.37210</td>\n      <td>1.16680</td>\n    </tr>\n  </tbody>\n</table>\n</div>"
     },
     "metadata": {},
     "execution_count": 8
    }
   ],
   "source": [
    "pd.DataFrame(X_test).head()"
   ]
  },
  {
   "cell_type": "code",
   "execution_count": 12,
   "metadata": {},
   "outputs": [],
   "source": [
    "data = pd.DataFrame(X_test)"
   ]
  },
  {
   "cell_type": "code",
   "execution_count": 19,
   "metadata": {},
   "outputs": [
    {
     "output_type": "execute_result",
     "data": {
      "text/plain": "4"
     },
     "metadata": {},
     "execution_count": 19
    }
   ],
   "source": [
    "data.columns = ['a','b','c','d']\n",
    "len(data.columns)"
   ]
  },
  {
   "cell_type": "code",
   "execution_count": null,
   "metadata": {},
   "outputs": [],
   "source": []
  }
 ],
 "metadata": {
  "language_info": {
   "codemirror_mode": {
    "name": "ipython",
    "version": 3
   },
   "file_extension": ".py",
   "mimetype": "text/x-python",
   "name": "python",
   "nbconvert_exporter": "python",
   "pygments_lexer": "ipython3",
   "version": "3.7.3-final"
  },
  "orig_nbformat": 2,
  "kernelspec": {
   "name": "python37364bitmykivyprojectvenv2223955da94f4b859689f35ce5947db5",
   "display_name": "Python 3.7.3 64-bit ('my_kivy_project': venv)"
  }
 },
 "nbformat": 4,
 "nbformat_minor": 2
}